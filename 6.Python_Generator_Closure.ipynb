{
 "cells": [
  {
   "cell_type": "code",
   "execution_count": 3,
   "metadata": {},
   "outputs": [],
   "source": [
    "# Generator object\n",
    "\n",
    "def simpleGeneratorFun():\n",
    "    yield 1\n",
    "    yield 2\n",
    "    yield 3"
   ]
  },
  {
   "cell_type": "code",
   "execution_count": 8,
   "metadata": {},
   "outputs": [
    {
     "name": "stdout",
     "output_type": "stream",
     "text": [
      "1\n",
      "2\n",
      "3\n"
     ]
    }
   ],
   "source": [
    "x = simpleGeneratorFun()\n",
    "\n",
    "print(x.__next__())\n",
    "print(x.__next__())\n",
    "print(x.__next__())"
   ]
  },
  {
   "cell_type": "code",
   "execution_count": 11,
   "metadata": {},
   "outputs": [
    {
     "name": "stdout",
     "output_type": "stream",
     "text": [
      "1\n",
      "9\n"
     ]
    }
   ],
   "source": [
    "mylist=[1,3,6,10]\n",
    "\n",
    "a=(x**2 for x in mylist)\n",
    "\n",
    "print(next(a))\n",
    "print(next(a))"
   ]
  },
  {
   "cell_type": "code",
   "execution_count": 33,
   "metadata": {},
   "outputs": [
    {
     "name": "stdout",
     "output_type": "stream",
     "text": [
      "printing from printer method, Hello\n",
      "None\n"
     ]
    }
   ],
   "source": [
    "def print_msg(msg):\n",
    "    #Inside the enclosing function another function /nested function\n",
    "    def printer():\n",
    "        print(\"printing from printer method, {}\".format(msg))\n",
    "    #the enclosing function must return the nested function\n",
    "    printer()\n",
    "    \n",
    "# executing the main /enclosing function\n",
    "another=print_msg(\"Hello\")\n",
    "print(another)\n",
    "# The above example, eventhough the inner function doesnt have any parameters, \n",
    "# it is still able to access the outer function parameter/variables. This is called closure in python\n",
    "# print another doesnt print Hello"
   ]
  },
  {
   "cell_type": "code",
   "execution_count": 34,
   "metadata": {},
   "outputs": [],
   "source": [
    "# delete print_msg() \n",
    "del print_msg"
   ]
  },
  {
   "cell_type": "code",
   "execution_count": 35,
   "metadata": {},
   "outputs": [
    {
     "ename": "NameError",
     "evalue": "name 'print_msg' is not defined",
     "output_type": "error",
     "traceback": [
      "\u001b[1;31m---------------------------------------------------------------------------\u001b[0m",
      "\u001b[1;31mNameError\u001b[0m                                 Traceback (most recent call last)",
      "\u001b[1;32m<ipython-input-35-1989af49401a>\u001b[0m in \u001b[0;36m<module>\u001b[1;34m\u001b[0m\n\u001b[1;32m----> 1\u001b[1;33m \u001b[0manother\u001b[0m\u001b[1;33m=\u001b[0m\u001b[0mprint_msg\u001b[0m\u001b[1;33m(\u001b[0m\u001b[1;34m\"Hello\"\u001b[0m\u001b[1;33m)\u001b[0m\u001b[1;33m\u001b[0m\u001b[1;33m\u001b[0m\u001b[0m\n\u001b[0m",
      "\u001b[1;31mNameError\u001b[0m: name 'print_msg' is not defined"
     ]
    }
   ],
   "source": [
    "another=print_msg(\"Hello\")"
   ]
  },
  {
   "cell_type": "markdown",
   "metadata": {},
   "source": [
    "### When do we have a closure?\n",
    " - We must have nested function (function inside a function)\n",
    " - The nested function must refer to value defined in the enclosing function\n",
    " - The enclosing function must return the nested function\n",
    " \n"
   ]
  },
  {
   "cell_type": "code",
   "execution_count": 41,
   "metadata": {},
   "outputs": [
    {
     "name": "stdout",
     "output_type": "stream",
     "text": [
      "n=5,X=2\n",
      "10\n",
      "n=5,X=2\n",
      "n=5,X=10\n",
      "50\n"
     ]
    }
   ],
   "source": [
    "# another explample for closure \n",
    "\n",
    "def Foo(n):\n",
    "    def multiplier(x):\n",
    "        print(\"n={},X={}\".format(n,x))\n",
    "        return x*n\n",
    "    return multiplier\n",
    "\n",
    "a = Foo(5)\n",
    "b = Foo(5)\n",
    "\n",
    "print(a(2))\n",
    "print(a(b(2)))"
   ]
  },
  {
   "cell_type": "code",
   "execution_count": 45,
   "metadata": {},
   "outputs": [
    {
     "name": "stdout",
     "output_type": "stream",
     "text": [
      "I am decorated\n",
      "I am ordinary\n"
     ]
    }
   ],
   "source": [
    "# another example for closure\n",
    "\n",
    "def make_pretty(func):\n",
    "    def inner():\n",
    "        print(\"I am decorated\")\n",
    "        func()\n",
    "    return inner()\n",
    "\n",
    "def ordinary():\n",
    "    print(\"I am ordinary\")\n",
    "\n",
    "pretty = make_pretty(ordinary)\n",
    "pretty"
   ]
  },
  {
   "cell_type": "code",
   "execution_count": null,
   "metadata": {},
   "outputs": [],
   "source": []
  }
 ],
 "metadata": {
  "kernelspec": {
   "display_name": "Python 3",
   "language": "python",
   "name": "python3"
  },
  "language_info": {
   "codemirror_mode": {
    "name": "ipython",
    "version": 3
   },
   "file_extension": ".py",
   "mimetype": "text/x-python",
   "name": "python",
   "nbconvert_exporter": "python",
   "pygments_lexer": "ipython3",
   "version": "3.7.4"
  }
 },
 "nbformat": 4,
 "nbformat_minor": 4
}
