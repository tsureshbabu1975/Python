{
 "cells": [
  {
   "cell_type": "code",
   "execution_count": 5,
   "metadata": {},
   "outputs": [],
   "source": [
    "# Python Functions \n",
    "\n",
    "def hello_func(input=\"You\"):\n",
    "    return \"Hi {}\".format(input)"
   ]
  },
  {
   "cell_type": "code",
   "execution_count": 11,
   "metadata": {},
   "outputs": [
    {
     "name": "stdout",
     "output_type": "stream",
     "text": [
      "Hi You\n"
     ]
    }
   ],
   "source": [
    "# function with default parameter value.\n",
    "print(hello_func())"
   ]
  },
  {
   "cell_type": "code",
   "execution_count": 12,
   "metadata": {},
   "outputs": [
    {
     "name": "stdout",
     "output_type": "stream",
     "text": [
      "HI YOU\n"
     ]
    }
   ],
   "source": [
    "# function string upper case\n",
    "\n",
    "print(hello_func().upper())"
   ]
  },
  {
   "cell_type": "code",
   "execution_count": 13,
   "metadata": {},
   "outputs": [
    {
     "name": "stdout",
     "output_type": "stream",
     "text": [
      "Hi Suresh!!!\n"
     ]
    }
   ],
   "source": [
    "print(hello_func(\"Suresh!!!\"))"
   ]
  },
  {
   "cell_type": "code",
   "execution_count": 22,
   "metadata": {},
   "outputs": [],
   "source": [
    "# args and kwargs parameters\n",
    "def student_info(*args,**kwargs):\n",
    "    return args,kwargs"
   ]
  },
  {
   "cell_type": "code",
   "execution_count": 25,
   "metadata": {},
   "outputs": [
    {
     "name": "stdout",
     "output_type": "stream",
     "text": [
      "(('Math', 'Science', 'Machine Learning'), {'name': 'Suresh', 'DOJ': '15/06/2019', 'age': 45})\n"
     ]
    }
   ],
   "source": [
    "# args returns tuple, kwargs returns Dictionary\n",
    "print(student_info('Math','Science','Machine Learning',name=\"Suresh\",DOJ=\"15/06/2019\", age=45))"
   ]
  },
  {
   "cell_type": "code",
   "execution_count": 28,
   "metadata": {},
   "outputs": [
    {
     "name": "stdout",
     "output_type": "stream",
     "text": [
      "((['Math', 'Science', 'Machine Learning'], {'name': 'Suresh', 'DOJ': '15/06/2019', 'age': 45}), {})\n"
     ]
    }
   ],
   "source": [
    "# args returns tuple, kwargs returns Dictionary\n",
    "courses=['Math','Science','Machine Learning']\n",
    "info=dict(name=\"Suresh\",DOJ=\"15/06/2019\", age=45)\n",
    "print(student_info(courses,info))"
   ]
  },
  {
   "cell_type": "code",
   "execution_count": 29,
   "metadata": {},
   "outputs": [
    {
     "name": "stdout",
     "output_type": "stream",
     "text": [
      "(('Math', 'Science', 'Machine Learning'), {'name': 'Suresh', 'DOJ': '15/06/2019', 'age': 45})\n"
     ]
    }
   ],
   "source": [
    "# To unpack add * to args and ** to kwargs\n",
    "print(student_info(*courses,**info))"
   ]
  },
  {
   "cell_type": "code",
   "execution_count": 30,
   "metadata": {},
   "outputs": [],
   "source": [
    "#number of days per month. First value is a place holder for indexing purposes\n",
    "month_days =[0,31,28,31,30,31,30,31,31,30,31,30,31]"
   ]
  },
  {
   "cell_type": "code",
   "execution_count": 31,
   "metadata": {},
   "outputs": [],
   "source": [
    "def is_leap(year):\n",
    "    #return true for leap years. False for non leap years.\n",
    "    return year%4==0 and (year%100 !=0 or year%400==0)"
   ]
  },
  {
   "cell_type": "code",
   "execution_count": 32,
   "metadata": {},
   "outputs": [],
   "source": [
    "def days_inmonth(year,month):\n",
    "    \"\"\"return number of days in that month in that year\"\"\"\n",
    "    if not 1<=month <=12:\n",
    "        return 'invalid month!'\n",
    "    elif month==2 and is_leap(year):\n",
    "        return 29\n",
    "    else:\n",
    "        return month_days[month]"
   ]
  },
  {
   "cell_type": "code",
   "execution_count": 33,
   "metadata": {},
   "outputs": [
    {
     "name": "stdout",
     "output_type": "stream",
     "text": [
      "29\n"
     ]
    }
   ],
   "source": [
    "print(days_inmonth(2020,2))"
   ]
  },
  {
   "cell_type": "code",
   "execution_count": 34,
   "metadata": {},
   "outputs": [
    {
     "name": "stdout",
     "output_type": "stream",
     "text": [
      "28\n"
     ]
    }
   ],
   "source": [
    "print(days_inmonth(2019,2))"
   ]
  },
  {
   "cell_type": "code",
   "execution_count": 35,
   "metadata": {},
   "outputs": [
    {
     "name": "stdout",
     "output_type": "stream",
     "text": [
      "31\n"
     ]
    }
   ],
   "source": [
    "print(days_inmonth(2020,1))"
   ]
  },
  {
   "cell_type": "code",
   "execution_count": null,
   "metadata": {},
   "outputs": [],
   "source": []
  }
 ],
 "metadata": {
  "kernelspec": {
   "display_name": "Python 3",
   "language": "python",
   "name": "python3"
  },
  "language_info": {
   "codemirror_mode": {
    "name": "ipython",
    "version": 3
   },
   "file_extension": ".py",
   "mimetype": "text/x-python",
   "name": "python",
   "nbconvert_exporter": "python",
   "pygments_lexer": "ipython3",
   "version": "3.7.4"
  }
 },
 "nbformat": 4,
 "nbformat_minor": 4
}
