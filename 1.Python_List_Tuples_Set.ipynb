{
 "cells": [
  {
   "cell_type": "code",
   "execution_count": 112,
   "metadata": {},
   "outputs": [],
   "source": [
    "# python List \n",
    "courses=['Maths','History','Machine Learning','NLP','Deep Learning','Statistics']"
   ]
  },
  {
   "cell_type": "code",
   "execution_count": 115,
   "metadata": {},
   "outputs": [
    {
     "data": {
      "text/plain": [
       "('Maths', 'Statistics')"
      ]
     },
     "execution_count": 115,
     "metadata": {},
     "output_type": "execute_result"
    }
   ],
   "source": [
    "# forward / backward direction to retrieve values\n",
    "courses[0], courses[-1]"
   ]
  },
  {
   "cell_type": "code",
   "execution_count": 116,
   "metadata": {},
   "outputs": [
    {
     "ename": "IndexError",
     "evalue": "list index out of range",
     "output_type": "error",
     "traceback": [
      "\u001b[1;31m---------------------------------------------------------------------------\u001b[0m",
      "\u001b[1;31mIndexError\u001b[0m                                Traceback (most recent call last)",
      "\u001b[1;32m<ipython-input-116-fa5dfae1514e>\u001b[0m in \u001b[0;36m<module>\u001b[1;34m\u001b[0m\n\u001b[0;32m      1\u001b[0m \u001b[1;31m# incase of index doesnt exist indexError\u001b[0m\u001b[1;33m\u001b[0m\u001b[1;33m\u001b[0m\u001b[1;33m\u001b[0m\u001b[0m\n\u001b[1;32m----> 2\u001b[1;33m \u001b[0mcourses\u001b[0m\u001b[1;33m[\u001b[0m\u001b[1;33m-\u001b[0m\u001b[1;36m8\u001b[0m\u001b[1;33m]\u001b[0m\u001b[1;33m\u001b[0m\u001b[1;33m\u001b[0m\u001b[0m\n\u001b[0m",
      "\u001b[1;31mIndexError\u001b[0m: list index out of range"
     ]
    }
   ],
   "source": [
    "# incase of index doesnt exist python will through indexError\n",
    "courses[-8]"
   ]
  },
  {
   "cell_type": "code",
   "execution_count": 117,
   "metadata": {},
   "outputs": [
    {
     "data": {
      "text/plain": [
       "(['Maths', 'History'], ['Deep Learning', 'Statistics'])"
      ]
     },
     "execution_count": 117,
     "metadata": {},
     "output_type": "execute_result"
    }
   ],
   "source": [
    "# How to retrieve multiple values using starting point index, and stop point. \n",
    "# Please note that, stop point index values doesnt include in the result\n",
    "courses[0:2], courses[4:]"
   ]
  },
  {
   "cell_type": "code",
   "execution_count": 120,
   "metadata": {},
   "outputs": [
    {
     "data": {
      "text/plain": [
       "['Art']"
      ]
     },
     "execution_count": 120,
     "metadata": {},
     "output_type": "execute_result"
    }
   ],
   "source": [
    "# retrieve values from last / reverse\n",
    "courses[-1:]"
   ]
  },
  {
   "cell_type": "code",
   "execution_count": 119,
   "metadata": {},
   "outputs": [],
   "source": [
    "# How to append values to list\n",
    "courses.append('Art')"
   ]
  },
  {
   "cell_type": "code",
   "execution_count": 16,
   "metadata": {},
   "outputs": [],
   "source": [
    "# How to insert into particular place using index. \n",
    "# Please note that this will not override the existing values, will move the values to next point\n",
    "courses.insert(1,'Science')"
   ]
  },
  {
   "cell_type": "code",
   "execution_count": 17,
   "metadata": {},
   "outputs": [
    {
     "data": {
      "text/plain": [
       "['Maths',\n",
       " 'Science',\n",
       " 'History',\n",
       " 'Machine Learning',\n",
       " 'NLP',\n",
       " 'Deep Learning',\n",
       " 'Statistics',\n",
       " 'Art']"
      ]
     },
     "execution_count": 17,
     "metadata": {},
     "output_type": "execute_result"
    }
   ],
   "source": [
    "# To retrieve all values\n",
    "courses[:]"
   ]
  },
  {
   "cell_type": "code",
   "execution_count": 18,
   "metadata": {},
   "outputs": [],
   "source": [
    "# How to append values with another list\n",
    "courses_2 =['C','Java','.NET']\n",
    "courses.append(courses_2)"
   ]
  },
  {
   "cell_type": "code",
   "execution_count": 123,
   "metadata": {},
   "outputs": [
    {
     "data": {
      "text/plain": [
       "[['modified.NET',\n",
       "  'Art',\n",
       "  'C',\n",
       "  'Deep Learning',\n",
       "  'History',\n",
       "  'Java',\n",
       "  'Machine Learning',\n",
       "  'NLP',\n",
       "  'Science',\n",
       "  'Statistics'],\n",
       " ['modified.NET',\n",
       "  'Art',\n",
       "  'C',\n",
       "  'Deep Learning',\n",
       "  'History',\n",
       "  'Java',\n",
       "  'Machine Learning',\n",
       "  'NLP',\n",
       "  'Science',\n",
       "  'Statistics'],\n",
       " 'Maths',\n",
       " 'History',\n",
       " 'Machine Learning',\n",
       " 'NLP',\n",
       " 'Deep Learning',\n",
       " 'Statistics',\n",
       " 'Art',\n",
       " 'modified.NET',\n",
       " 'Art',\n",
       " 'C',\n",
       " 'Deep Learning',\n",
       " 'History',\n",
       " 'Java',\n",
       " 'Machine Learning',\n",
       " 'NLP',\n",
       " 'Science',\n",
       " 'Statistics']"
      ]
     },
     "execution_count": 123,
     "metadata": {},
     "output_type": "execute_result"
    }
   ],
   "source": [
    "# insert values with another list\n",
    "# In this case, list of list\n",
    "courses.insert(0,courses_2)\n",
    "courses"
   ]
  },
  {
   "cell_type": "code",
   "execution_count": 125,
   "metadata": {},
   "outputs": [
    {
     "data": {
      "text/plain": [
       "[['modified.NET',\n",
       "  'Art',\n",
       "  'C',\n",
       "  'Deep Learning',\n",
       "  'History',\n",
       "  'Java',\n",
       "  'Machine Learning',\n",
       "  'NLP',\n",
       "  'Science',\n",
       "  'Statistics'],\n",
       " ['modified.NET',\n",
       "  'Art',\n",
       "  'C',\n",
       "  'Deep Learning',\n",
       "  'History',\n",
       "  'Java',\n",
       "  'Machine Learning',\n",
       "  'NLP',\n",
       "  'Science',\n",
       "  'Statistics'],\n",
       " 'Maths',\n",
       " 'History',\n",
       " 'Machine Learning',\n",
       " 'NLP',\n",
       " 'Deep Learning',\n",
       " 'Statistics',\n",
       " 'Art',\n",
       " 'modified.NET',\n",
       " 'Art',\n",
       " 'C',\n",
       " 'Deep Learning',\n",
       " 'History',\n",
       " 'Java',\n",
       " 'Machine Learning',\n",
       " 'NLP',\n",
       " 'Science',\n",
       " 'Statistics',\n",
       " 'modified.NET',\n",
       " 'Art',\n",
       " 'C',\n",
       " 'Deep Learning',\n",
       " 'History',\n",
       " 'Java',\n",
       " 'Machine Learning',\n",
       " 'NLP',\n",
       " 'Science',\n",
       " 'Statistics',\n",
       " 'modified.NET',\n",
       " 'Art',\n",
       " 'C',\n",
       " 'Deep Learning',\n",
       " 'History',\n",
       " 'Java',\n",
       " 'Machine Learning',\n",
       " 'NLP',\n",
       " 'Science',\n",
       " 'Statistics']"
      ]
     },
     "execution_count": 125,
     "metadata": {},
     "output_type": "execute_result"
    }
   ],
   "source": [
    "# Extend method will append values unlike above.\n",
    "courses.extend(courses_2)\n",
    "courses"
   ]
  },
  {
   "cell_type": "code",
   "execution_count": 25,
   "metadata": {},
   "outputs": [],
   "source": [
    "# How to remove values from List using remove method. \n",
    "courses.remove('Maths')"
   ]
  },
  {
   "cell_type": "code",
   "execution_count": 27,
   "metadata": {},
   "outputs": [
    {
     "data": {
      "text/plain": [
       "['C', 'Java', '.NET']"
      ]
     },
     "execution_count": 27,
     "metadata": {},
     "output_type": "execute_result"
    }
   ],
   "source": [
    "# using pop function, to remove/pop the values. index to be mentioned\n",
    "courses.pop(0)"
   ]
  },
  {
   "cell_type": "code",
   "execution_count": 33,
   "metadata": {},
   "outputs": [
    {
     "data": {
      "text/plain": [
       "['C', 'Java', '.NET']"
      ]
     },
     "execution_count": 33,
     "metadata": {},
     "output_type": "execute_result"
    }
   ],
   "source": [
    "# pop function with negative index position the value from right to left\n",
    "courses.pop(-4)"
   ]
  },
  {
   "cell_type": "code",
   "execution_count": 34,
   "metadata": {},
   "outputs": [
    {
     "data": {
      "text/plain": [
       "['Science',\n",
       " 'History',\n",
       " 'Machine Learning',\n",
       " 'NLP',\n",
       " 'Deep Learning',\n",
       " 'Statistics',\n",
       " 'Art',\n",
       " 'C',\n",
       " 'Java',\n",
       " '.NET']"
      ]
     },
     "execution_count": 34,
     "metadata": {},
     "output_type": "execute_result"
    }
   ],
   "source": [
    "courses[:]"
   ]
  },
  {
   "cell_type": "code",
   "execution_count": 128,
   "metadata": {},
   "outputs": [],
   "source": [
    "# reverse the values in the list\n",
    "courses.reverse()"
   ]
  },
  {
   "cell_type": "code",
   "execution_count": 129,
   "metadata": {},
   "outputs": [
    {
     "data": {
      "text/plain": [
       "['Statistics',\n",
       " 'Science',\n",
       " 'NLP',\n",
       " 'Machine Learning',\n",
       " 'Java',\n",
       " 'History',\n",
       " 'Deep Learning',\n",
       " 'C',\n",
       " 'Art',\n",
       " 'modified.NET',\n",
       " 'Statistics',\n",
       " 'Science',\n",
       " 'NLP',\n",
       " 'Machine Learning',\n",
       " 'Java',\n",
       " 'History',\n",
       " 'Deep Learning',\n",
       " 'C',\n",
       " 'Art',\n",
       " 'modified.NET',\n",
       " 'Statistics',\n",
       " 'Science',\n",
       " 'NLP',\n",
       " 'Machine Learning',\n",
       " 'Java',\n",
       " 'History',\n",
       " 'Deep Learning',\n",
       " 'C',\n",
       " 'Art',\n",
       " 'modified.NET',\n",
       " 'Art',\n",
       " 'Statistics',\n",
       " 'Deep Learning',\n",
       " 'NLP',\n",
       " 'Machine Learning',\n",
       " 'History',\n",
       " 'Maths',\n",
       " ['modified.NET',\n",
       "  'Art',\n",
       "  'C',\n",
       "  'Deep Learning',\n",
       "  'History',\n",
       "  'Java',\n",
       "  'Machine Learning',\n",
       "  'NLP',\n",
       "  'Science',\n",
       "  'Statistics'],\n",
       " ['modified.NET',\n",
       "  'Art',\n",
       "  'C',\n",
       "  'Deep Learning',\n",
       "  'History',\n",
       "  'Java',\n",
       "  'Machine Learning',\n",
       "  'NLP',\n",
       "  'Science',\n",
       "  'Statistics']]"
      ]
     },
     "execution_count": 129,
     "metadata": {},
     "output_type": "execute_result"
    }
   ],
   "source": [
    "courses[:]"
   ]
  },
  {
   "cell_type": "code",
   "execution_count": 130,
   "metadata": {},
   "outputs": [],
   "source": [
    "courses.reverse()"
   ]
  },
  {
   "cell_type": "code",
   "execution_count": 139,
   "metadata": {},
   "outputs": [
    {
     "data": {
      "text/plain": [
       "['Art',\n",
       " 'Art',\n",
       " 'Art',\n",
       " 'Art',\n",
       " 'C',\n",
       " 'C',\n",
       " 'C',\n",
       " 'Deep Learning',\n",
       " 'Deep Learning',\n",
       " 'Deep Learning',\n",
       " 'Deep Learning',\n",
       " 'History',\n",
       " 'History',\n",
       " 'History',\n",
       " 'History',\n",
       " 'Java',\n",
       " 'Java',\n",
       " 'Java',\n",
       " 'Machine Learning',\n",
       " 'Machine Learning',\n",
       " 'Machine Learning',\n",
       " 'Machine Learning',\n",
       " 'Maths',\n",
       " 'NLP',\n",
       " 'NLP',\n",
       " 'NLP',\n",
       " 'NLP',\n",
       " 'Science',\n",
       " 'Science',\n",
       " 'Science',\n",
       " 'Statistics',\n",
       " 'Statistics',\n",
       " 'Statistics',\n",
       " 'Statistics',\n",
       " 'modified.NET',\n",
       " 'modified.NET',\n",
       " 'modified.NET']"
      ]
     },
     "execution_count": 139,
     "metadata": {},
     "output_type": "execute_result"
    }
   ],
   "source": [
    "# Sort function. Please note that, list of List gives some error. \n",
    "courses.sort()\n",
    "\n",
    "courses"
   ]
  },
  {
   "cell_type": "code",
   "execution_count": 141,
   "metadata": {},
   "outputs": [
    {
     "data": {
      "text/plain": [
       "['modified.NET',\n",
       " 'modified.NET',\n",
       " 'modified.NET',\n",
       " 'Statistics',\n",
       " 'Statistics',\n",
       " 'Statistics',\n",
       " 'Statistics',\n",
       " 'Science',\n",
       " 'Science',\n",
       " 'Science',\n",
       " 'NLP',\n",
       " 'NLP',\n",
       " 'NLP',\n",
       " 'NLP',\n",
       " 'Maths',\n",
       " 'Machine Learning',\n",
       " 'Machine Learning',\n",
       " 'Machine Learning',\n",
       " 'Machine Learning',\n",
       " 'Java',\n",
       " 'Java',\n",
       " 'Java',\n",
       " 'History',\n",
       " 'History',\n",
       " 'History',\n",
       " 'History',\n",
       " 'Deep Learning',\n",
       " 'Deep Learning',\n",
       " 'Deep Learning',\n",
       " 'Deep Learning',\n",
       " 'C',\n",
       " 'C',\n",
       " 'C',\n",
       " 'Art',\n",
       " 'Art',\n",
       " 'Art',\n",
       " 'Art']"
      ]
     },
     "execution_count": 141,
     "metadata": {},
     "output_type": "execute_result"
    }
   ],
   "source": [
    "# sorted function, doesnt change original list, instead, it o/p with sorted list. This can be stored in another variable if needed.\n",
    "# reverse order also can be specified.\n",
    "sorted(courses,reverse=True)"
   ]
  },
  {
   "cell_type": "code",
   "execution_count": 52,
   "metadata": {},
   "outputs": [
    {
     "data": {
      "text/plain": [
       "['.NET',\n",
       " 'Art',\n",
       " 'C',\n",
       " 'Deep Learning',\n",
       " 'History',\n",
       " 'Java',\n",
       " 'Machine Learning',\n",
       " 'NLP',\n",
       " 'Science',\n",
       " 'Statistics']"
      ]
     },
     "execution_count": 52,
     "metadata": {},
     "output_type": "execute_result"
    }
   ],
   "source": [
    "courses[:]"
   ]
  },
  {
   "cell_type": "code",
   "execution_count": 55,
   "metadata": {},
   "outputs": [],
   "source": [
    "num=[5,3,8,7,9,0,4]"
   ]
  },
  {
   "cell_type": "code",
   "execution_count": 56,
   "metadata": {},
   "outputs": [],
   "source": [
    "num.sort(reverse=True)"
   ]
  },
  {
   "cell_type": "code",
   "execution_count": 57,
   "metadata": {},
   "outputs": [
    {
     "name": "stdout",
     "output_type": "stream",
     "text": [
      "[9, 8, 7, 5, 4, 3, 0]\n"
     ]
    }
   ],
   "source": [
    "print(num)"
   ]
  },
  {
   "cell_type": "code",
   "execution_count": 142,
   "metadata": {},
   "outputs": [
    {
     "data": {
      "text/plain": [
       "23"
      ]
     },
     "execution_count": 142,
     "metadata": {},
     "output_type": "execute_result"
    }
   ],
   "source": [
    "# get the index\n",
    "courses.index('NLP')"
   ]
  },
  {
   "cell_type": "code",
   "execution_count": 143,
   "metadata": {},
   "outputs": [
    {
     "name": "stdout",
     "output_type": "stream",
     "text": [
      "False\n"
     ]
    }
   ],
   "source": [
    "# check if the value exist or not.\n",
    "print('ML' in courses)"
   ]
  },
  {
   "cell_type": "code",
   "execution_count": 144,
   "metadata": {},
   "outputs": [
    {
     "name": "stdout",
     "output_type": "stream",
     "text": [
      "Art\n",
      "Art\n",
      "Art\n",
      "Art\n",
      "C\n",
      "C\n",
      "C\n",
      "Deep Learning\n",
      "Deep Learning\n",
      "Deep Learning\n",
      "Deep Learning\n",
      "History\n",
      "History\n",
      "History\n",
      "History\n",
      "Java\n",
      "Java\n",
      "Java\n",
      "Machine Learning\n",
      "Machine Learning\n",
      "Machine Learning\n",
      "Machine Learning\n",
      "Maths\n",
      "NLP\n",
      "NLP\n",
      "NLP\n",
      "NLP\n",
      "Science\n",
      "Science\n",
      "Science\n",
      "Statistics\n",
      "Statistics\n",
      "Statistics\n",
      "Statistics\n",
      "modified.NET\n",
      "modified.NET\n",
      "modified.NET\n"
     ]
    }
   ],
   "source": [
    "# how to iterate values in list\n",
    "for course in courses:\n",
    "    print(course)"
   ]
  },
  {
   "cell_type": "code",
   "execution_count": 145,
   "metadata": {},
   "outputs": [
    {
     "name": "stdout",
     "output_type": "stream",
     "text": [
      "0 Art\n",
      "1 Art\n",
      "2 Art\n",
      "3 Art\n",
      "4 C\n",
      "5 C\n",
      "6 C\n",
      "7 Deep Learning\n",
      "8 Deep Learning\n",
      "9 Deep Learning\n",
      "10 Deep Learning\n",
      "11 History\n",
      "12 History\n",
      "13 History\n",
      "14 History\n",
      "15 Java\n",
      "16 Java\n",
      "17 Java\n",
      "18 Machine Learning\n",
      "19 Machine Learning\n",
      "20 Machine Learning\n",
      "21 Machine Learning\n",
      "22 Maths\n",
      "23 NLP\n",
      "24 NLP\n",
      "25 NLP\n",
      "26 NLP\n",
      "27 Science\n",
      "28 Science\n",
      "29 Science\n",
      "30 Statistics\n",
      "31 Statistics\n",
      "32 Statistics\n",
      "33 Statistics\n",
      "34 modified.NET\n",
      "35 modified.NET\n",
      "36 modified.NET\n"
     ]
    }
   ],
   "source": [
    "# To get both key and vlaues use enumerate function\n",
    "for i, course in enumerate(courses):\n",
    "    print(i, course)"
   ]
  },
  {
   "cell_type": "code",
   "execution_count": 146,
   "metadata": {},
   "outputs": [
    {
     "name": "stdout",
     "output_type": "stream",
     "text": [
      "Art,Art,Art,Art,C,C,C,Deep Learning,Deep Learning,Deep Learning,Deep Learning,History,History,History,History,Java,Java,Java,Machine Learning,Machine Learning,Machine Learning,Machine Learning,Maths,NLP,NLP,NLP,NLP,Science,Science,Science,Statistics,Statistics,Statistics,Statistics,modified.NET,modified.NET,modified.NET\n"
     ]
    }
   ],
   "source": [
    "# join the values, with delimiter\n",
    "courses_str = ','.join(courses)\n",
    "\n",
    "print(courses_str)"
   ]
  },
  {
   "cell_type": "code",
   "execution_count": 147,
   "metadata": {},
   "outputs": [],
   "source": [
    "# split the values with split function\n",
    "new_list = courses_str.split(',')"
   ]
  },
  {
   "cell_type": "code",
   "execution_count": 148,
   "metadata": {},
   "outputs": [
    {
     "name": "stdout",
     "output_type": "stream",
     "text": [
      "['Art', 'Art', 'Art', 'Art', 'C', 'C', 'C', 'Deep Learning', 'Deep Learning', 'Deep Learning', 'Deep Learning', 'History', 'History', 'History', 'History', 'Java', 'Java', 'Java', 'Machine Learning', 'Machine Learning', 'Machine Learning', 'Machine Learning', 'Maths', 'NLP', 'NLP', 'NLP', 'NLP', 'Science', 'Science', 'Science', 'Statistics', 'Statistics', 'Statistics', 'Statistics', 'modified.NET', 'modified.NET', 'modified.NET']\n"
     ]
    }
   ],
   "source": [
    "print(new_list)"
   ]
  },
  {
   "cell_type": "code",
   "execution_count": 75,
   "metadata": {},
   "outputs": [],
   "source": [
    "# list is mutable and Tuple is immutable. "
   ]
  },
  {
   "cell_type": "code",
   "execution_count": 149,
   "metadata": {},
   "outputs": [],
   "source": [
    "courses_2 = courses"
   ]
  },
  {
   "cell_type": "code",
   "execution_count": 150,
   "metadata": {},
   "outputs": [],
   "source": [
    "courses_2[0]='modified.NET'"
   ]
  },
  {
   "cell_type": "code",
   "execution_count": 151,
   "metadata": {},
   "outputs": [
    {
     "name": "stdout",
     "output_type": "stream",
     "text": [
      "['modified.NET', 'Art', 'Art', 'Art', 'C', 'C', 'C', 'Deep Learning', 'Deep Learning', 'Deep Learning', 'Deep Learning', 'History', 'History', 'History', 'History', 'Java', 'Java', 'Java', 'Machine Learning', 'Machine Learning', 'Machine Learning', 'Machine Learning', 'Maths', 'NLP', 'NLP', 'NLP', 'NLP', 'Science', 'Science', 'Science', 'Statistics', 'Statistics', 'Statistics', 'Statistics', 'modified.NET', 'modified.NET', 'modified.NET']\n"
     ]
    }
   ],
   "source": [
    "print(courses)"
   ]
  },
  {
   "cell_type": "code",
   "execution_count": 152,
   "metadata": {},
   "outputs": [],
   "source": [
    "tuple_courses=('modified.NET',\n",
    " 'Art',\n",
    " 'C',\n",
    " 'Deep Learning',\n",
    " 'History',\n",
    " 'Java',\n",
    " 'Machine Learning',\n",
    " 'NLP',\n",
    " 'Science',\n",
    " 'Statistics')"
   ]
  },
  {
   "cell_type": "code",
   "execution_count": 153,
   "metadata": {},
   "outputs": [
    {
     "name": "stdout",
     "output_type": "stream",
     "text": [
      "('modified.NET', 'Art', 'C', 'Deep Learning', 'History', 'Java', 'Machine Learning', 'NLP', 'Science', 'Statistics')\n"
     ]
    }
   ],
   "source": [
    "print(tuple_courses)"
   ]
  },
  {
   "cell_type": "code",
   "execution_count": 154,
   "metadata": {},
   "outputs": [],
   "source": [
    "tuple_courses_2 =tuple_courses"
   ]
  },
  {
   "cell_type": "code",
   "execution_count": 156,
   "metadata": {},
   "outputs": [
    {
     "ename": "TypeError",
     "evalue": "'tuple' object does not support item assignment",
     "output_type": "error",
     "traceback": [
      "\u001b[1;31m---------------------------------------------------------------------------\u001b[0m",
      "\u001b[1;31mTypeError\u001b[0m                                 Traceback (most recent call last)",
      "\u001b[1;32m<ipython-input-156-2374515f69a3>\u001b[0m in \u001b[0;36m<module>\u001b[1;34m\u001b[0m\n\u001b[0;32m      1\u001b[0m \u001b[1;31m# Try to override the tuple value: This throws TypeError: 'tuple' object does not support item assignment\u001b[0m\u001b[1;33m\u001b[0m\u001b[1;33m\u001b[0m\u001b[1;33m\u001b[0m\u001b[0m\n\u001b[1;32m----> 2\u001b[1;33m \u001b[0mtuple_courses_2\u001b[0m\u001b[1;33m[\u001b[0m\u001b[1;36m0\u001b[0m\u001b[1;33m]\u001b[0m\u001b[1;33m=\u001b[0m\u001b[1;34m'Again .NET'\u001b[0m\u001b[1;33m\u001b[0m\u001b[1;33m\u001b[0m\u001b[0m\n\u001b[0m",
      "\u001b[1;31mTypeError\u001b[0m: 'tuple' object does not support item assignment"
     ]
    }
   ],
   "source": [
    "# Try to override the tuple value: This throws TypeError: 'tuple' object does not support item assignment\n",
    "tuple_courses_2[0]='Again .NET'"
   ]
  },
  {
   "cell_type": "code",
   "execution_count": 157,
   "metadata": {},
   "outputs": [],
   "source": [
    "# Set doesnt care about the order\n",
    "\n",
    "Set_courses= {'modified.NET',\n",
    " 'Art',\n",
    " 'C',\n",
    " 'Deep Learning',\n",
    " 'History',\n",
    " 'Java',\n",
    " 'Machine Learning',\n",
    " 'NLP',\n",
    " 'Science',\n",
    " 'Statistics','Art'}"
   ]
  },
  {
   "cell_type": "code",
   "execution_count": 158,
   "metadata": {},
   "outputs": [
    {
     "name": "stdout",
     "output_type": "stream",
     "text": [
      "{'Java', 'Machine Learning', 'Deep Learning', 'modified.NET', 'NLP', 'Art', 'Science', 'C', 'History', 'Statistics'}\n"
     ]
    }
   ],
   "source": [
    "print(Set_courses)"
   ]
  },
  {
   "cell_type": "code",
   "execution_count": null,
   "metadata": {},
   "outputs": [],
   "source": [
    "# SET removes duplicates"
   ]
  },
  {
   "cell_type": "code",
   "execution_count": 159,
   "metadata": {},
   "outputs": [],
   "source": [
    "CS_courses= {'.NET',\n",
    " 'C',\n",
    " 'Deep Learning',\n",
    " 'Java',\n",
    " 'Machine Learning',\n",
    " 'NLP', 'Science','Statistics'}\n",
    "\n",
    "Art_courses= {'Art',\n",
    " 'History',\n",
    " 'Science',\n",
    " 'Statistics'}"
   ]
  },
  {
   "cell_type": "code",
   "execution_count": 160,
   "metadata": {},
   "outputs": [
    {
     "data": {
      "text/plain": [
       "{'Science', 'Statistics'}"
      ]
     },
     "execution_count": 160,
     "metadata": {},
     "output_type": "execute_result"
    }
   ],
   "source": [
    "# Common values in set: intersection\n",
    "CS_courses.intersection(Art_courses)"
   ]
  },
  {
   "cell_type": "code",
   "execution_count": 161,
   "metadata": {},
   "outputs": [
    {
     "data": {
      "text/plain": [
       "{'Art', 'History'}"
      ]
     },
     "execution_count": 161,
     "metadata": {},
     "output_type": "execute_result"
    }
   ],
   "source": [
    "# Difference values  in Set: Please note that with respect to which Set, the difference values are given based on that SET only.\n",
    "Art_courses.difference(CS_courses)"
   ]
  },
  {
   "cell_type": "code",
   "execution_count": 162,
   "metadata": {},
   "outputs": [
    {
     "data": {
      "text/plain": [
       "{'.NET', 'C', 'Deep Learning', 'Java', 'Machine Learning', 'NLP'}"
      ]
     },
     "execution_count": 162,
     "metadata": {},
     "output_type": "execute_result"
    }
   ],
   "source": [
    "CS_courses.difference(Art_courses)"
   ]
  },
  {
   "cell_type": "code",
   "execution_count": 163,
   "metadata": {},
   "outputs": [
    {
     "data": {
      "text/plain": [
       "{'.NET',\n",
       " 'Art',\n",
       " 'C',\n",
       " 'Deep Learning',\n",
       " 'History',\n",
       " 'Java',\n",
       " 'Machine Learning',\n",
       " 'NLP',\n",
       " 'Science',\n",
       " 'Statistics'}"
      ]
     },
     "execution_count": 163,
     "metadata": {},
     "output_type": "execute_result"
    }
   ],
   "source": [
    "# Union two SETs and it removes duplicates values\n",
    "Art_courses.union(CS_courses)"
   ]
  },
  {
   "cell_type": "code",
   "execution_count": 110,
   "metadata": {},
   "outputs": [],
   "source": [
    "# empty set\n",
    "\n",
    "empty_set=set()\n",
    "\n",
    "#empty list\n",
    "# empty_list=[] or\n",
    "# empty_list=[]\n",
    "\n",
    "#empty Tuple\n",
    "\n",
    "# empty_tuple=() or\n",
    "empty_tuple =tuple()"
   ]
  },
  {
   "cell_type": "code",
   "execution_count": 164,
   "metadata": {},
   "outputs": [
    {
     "data": {
      "text/plain": [
       "()"
      ]
     },
     "execution_count": 164,
     "metadata": {},
     "output_type": "execute_result"
    }
   ],
   "source": [
    "empty_tuple"
   ]
  },
  {
   "cell_type": "code",
   "execution_count": null,
   "metadata": {},
   "outputs": [],
   "source": []
  }
 ],
 "metadata": {
  "kernelspec": {
   "display_name": "Python 3",
   "language": "python",
   "name": "python3"
  },
  "language_info": {
   "codemirror_mode": {
    "name": "ipython",
    "version": 3
   },
   "file_extension": ".py",
   "mimetype": "text/x-python",
   "name": "python",
   "nbconvert_exporter": "python",
   "pygments_lexer": "ipython3",
   "version": "3.7.4"
  }
 },
 "nbformat": 4,
 "nbformat_minor": 4
}
